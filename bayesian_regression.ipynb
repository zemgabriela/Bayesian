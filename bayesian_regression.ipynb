{
 "cells": [
  {
   "cell_type": "code",
   "execution_count": 1,
   "metadata": {
    "vscode": {
     "languageId": "r"
    }
   },
   "outputs": [
    {
     "name": "stderr",
     "output_type": "stream",
     "text": [
      "Loading required package: ggplot2\n",
      "\n",
      "Loading required package: lattice\n",
      "\n",
      "Loading required package: coda\n",
      "\n",
      "Loading required package: MASS\n",
      "\n",
      "##\n",
      "## Markov Chain Monte Carlo Package (MCMCpack)\n",
      "\n",
      "## Copyright (C) 2003-2024 Andrew D. Martin, Kevin M. Quinn, and Jong Hee Park\n",
      "\n",
      "##\n",
      "## Support provided by the U.S. National Science Foundation\n",
      "\n",
      "## (Grants SES-0350646 and SES-0350613)\n",
      "##\n",
      "\n",
      "Loading required package: Rcpp\n",
      "\n",
      "This is rstanarm version 2.32.1\n",
      "\n",
      "- See https://mc-stan.org/rstanarm/articles/priors for changes to default priors!\n",
      "\n",
      "- Default priors may change, so it's safest to specify priors, even if equivalent to the defaults.\n",
      "\n",
      "- For execution on a local, multicore CPU with excess RAM we recommend calling\n",
      "\n",
      "  options(mc.cores = parallel::detectCores())\n",
      "\n",
      "\n",
      "Attaching package: 'rstanarm'\n",
      "\n",
      "\n",
      "The following objects are masked from 'package:caret':\n",
      "\n",
      "    compare_models, R2\n",
      "\n",
      "\n",
      "Registered S3 method overwritten by 'GGally':\n",
      "  method from   \n",
      "  +.gg   ggplot2\n",
      "\n",
      "corrplot 0.92 loaded\n",
      "\n",
      "This is bayesplot version 1.11.1\n",
      "\n",
      "- Online documentation and vignettes at mc-stan.org/bayesplot\n",
      "\n",
      "- bayesplot theme set to bayesplot::theme_default()\n",
      "\n",
      "   * Does _not_ affect other ggplot2 plots\n",
      "\n",
      "   * See ?bayesplot_theme_set for details on theme setting\n",
      "\n",
      "\n",
      "Attaching package: 'dplyr'\n",
      "\n",
      "\n",
      "The following object is masked from 'package:gridExtra':\n",
      "\n",
      "    combine\n",
      "\n",
      "\n",
      "The following object is masked from 'package:MASS':\n",
      "\n",
      "    select\n",
      "\n",
      "\n",
      "The following objects are masked from 'package:stats':\n",
      "\n",
      "    filter, lag\n",
      "\n",
      "\n",
      "The following objects are masked from 'package:base':\n",
      "\n",
      "    intersect, setdiff, setequal, union\n",
      "\n",
      "\n",
      "Loading required package: Matrix\n",
      "\n",
      "Loaded glmnet 4.1-8\n",
      "\n",
      "Loading required package: Formula\n",
      "\n",
      "Loading required package: plotrix\n",
      "\n",
      "\n",
      "Attaching package: 'plotrix'\n",
      "\n",
      "\n",
      "The following object is masked from 'package:bayesplot':\n",
      "\n",
      "    plot_bg\n",
      "\n",
      "\n",
      "Loading required package: mvtnorm\n",
      "\n",
      "Loading required package: parallel\n",
      "\n"
     ]
    }
   ],
   "source": [
    "# =========== IMPORT LIBRARIES ===========\n",
    "\n",
    "#install.packages(c(\"MCMCpack\",\"ggplot2\",\"gridExtra\",\"corrplot\",\"caret\",\"rstanarm\"))\n",
    "library(caret)\n",
    "library(MCMCpack)\n",
    "library(rstanarm)\n",
    "library(GGally)\n",
    "library(ggplot2)\n",
    "library(gridExtra)\n",
    "library(corrplot)\n",
    "library(reshape2)\n",
    "library(RColorBrewer)\n",
    "library(bayesplot)\n",
    "library(cowplot)\n",
    "library(dplyr)\n",
    "library(glmnet)\n",
    "library(plotmo)\n",
    "library(BayesVarSel)"
   ]
  },
  {
   "cell_type": "code",
   "execution_count": 2,
   "metadata": {
    "vscode": {
     "languageId": "r"
    }
   },
   "outputs": [
    {
     "data": {
      "text/html": [
       "<table class=\"dataframe\">\n",
       "<caption>A data.frame: 6 × 15</caption>\n",
       "<thead>\n",
       "\t<tr><th></th><th scope=col>X</th><th scope=col>longitude</th><th scope=col>latitude</th><th scope=col>housing_median_age</th><th scope=col>total_rooms</th><th scope=col>total_bedrooms</th><th scope=col>population</th><th scope=col>households</th><th scope=col>median_income</th><th scope=col>median_house_value</th><th scope=col>ocean_proximity_.1H.OCEAN</th><th scope=col>ocean_proximity_INLAND</th><th scope=col>ocean_proximity_ISLAND</th><th scope=col>ocean_proximity_NEAR.BAY</th><th scope=col>ocean_proximity_NEAR.OCEAN</th></tr>\n",
       "\t<tr><th></th><th scope=col>&lt;int&gt;</th><th scope=col>&lt;dbl&gt;</th><th scope=col>&lt;dbl&gt;</th><th scope=col>&lt;dbl&gt;</th><th scope=col>&lt;dbl&gt;</th><th scope=col>&lt;dbl&gt;</th><th scope=col>&lt;dbl&gt;</th><th scope=col>&lt;dbl&gt;</th><th scope=col>&lt;dbl&gt;</th><th scope=col>&lt;dbl&gt;</th><th scope=col>&lt;int&gt;</th><th scope=col>&lt;int&gt;</th><th scope=col>&lt;int&gt;</th><th scope=col>&lt;int&gt;</th><th scope=col>&lt;int&gt;</th></tr>\n",
       "</thead>\n",
       "<tbody>\n",
       "\t<tr><th scope=row>1</th><td>0</td><td>0.2111554</td><td>0.5674814</td><td>0.7843137</td><td>0.02233074</td><td>0.01986344</td><td>0.008940834</td><td>0.02055583</td><td>0.5396684</td><td>452600</td><td>0</td><td>0</td><td>0</td><td>1</td><td>0</td></tr>\n",
       "\t<tr><th scope=row>2</th><td>1</td><td>0.2121514</td><td>0.5653560</td><td>0.3921569</td><td>0.18050257</td><td>0.17147734</td><td>0.067210404</td><td>0.18697583</td><td>0.5380271</td><td>358500</td><td>0</td><td>0</td><td>0</td><td>1</td><td>0</td></tr>\n",
       "\t<tr><th scope=row>3</th><td>2</td><td>0.2101594</td><td>0.5642933</td><td>1.0000000</td><td>0.03726029</td><td>0.02932961</td><td>0.013817652</td><td>0.02894261</td><td>0.4660281</td><td>352100</td><td>0</td><td>0</td><td>0</td><td>1</td><td>0</td></tr>\n",
       "\t<tr><th scope=row>4</th><td>3</td><td>0.2091633</td><td>0.5642933</td><td>1.0000000</td><td>0.03235159</td><td>0.03631285</td><td>0.015555369</td><td>0.03584937</td><td>0.3546986</td><td>341300</td><td>0</td><td>0</td><td>0</td><td>1</td><td>0</td></tr>\n",
       "\t<tr><th scope=row>5</th><td>4</td><td>0.2091633</td><td>0.5642933</td><td>1.0000000</td><td>0.04132967</td><td>0.04329609</td><td>0.015751563</td><td>0.04242723</td><td>0.2307761</td><td>342200</td><td>0</td><td>0</td><td>0</td><td>1</td><td>0</td></tr>\n",
       "\t<tr><th scope=row>6</th><td>5</td><td>0.2091633</td><td>0.5642933</td><td>1.0000000</td><td>0.02332265</td><td>0.03289882</td><td>0.011491353</td><td>0.03157375</td><td>0.2439208</td><td>269700</td><td>0</td><td>0</td><td>0</td><td>1</td><td>0</td></tr>\n",
       "</tbody>\n",
       "</table>\n"
      ],
      "text/latex": [
       "A data.frame: 6 × 15\n",
       "\\begin{tabular}{r|lllllllllllllll}\n",
       "  & X & longitude & latitude & housing\\_median\\_age & total\\_rooms & total\\_bedrooms & population & households & median\\_income & median\\_house\\_value & ocean\\_proximity\\_.1H.OCEAN & ocean\\_proximity\\_INLAND & ocean\\_proximity\\_ISLAND & ocean\\_proximity\\_NEAR.BAY & ocean\\_proximity\\_NEAR.OCEAN\\\\\n",
       "  & <int> & <dbl> & <dbl> & <dbl> & <dbl> & <dbl> & <dbl> & <dbl> & <dbl> & <dbl> & <int> & <int> & <int> & <int> & <int>\\\\\n",
       "\\hline\n",
       "\t1 & 0 & 0.2111554 & 0.5674814 & 0.7843137 & 0.02233074 & 0.01986344 & 0.008940834 & 0.02055583 & 0.5396684 & 452600 & 0 & 0 & 0 & 1 & 0\\\\\n",
       "\t2 & 1 & 0.2121514 & 0.5653560 & 0.3921569 & 0.18050257 & 0.17147734 & 0.067210404 & 0.18697583 & 0.5380271 & 358500 & 0 & 0 & 0 & 1 & 0\\\\\n",
       "\t3 & 2 & 0.2101594 & 0.5642933 & 1.0000000 & 0.03726029 & 0.02932961 & 0.013817652 & 0.02894261 & 0.4660281 & 352100 & 0 & 0 & 0 & 1 & 0\\\\\n",
       "\t4 & 3 & 0.2091633 & 0.5642933 & 1.0000000 & 0.03235159 & 0.03631285 & 0.015555369 & 0.03584937 & 0.3546986 & 341300 & 0 & 0 & 0 & 1 & 0\\\\\n",
       "\t5 & 4 & 0.2091633 & 0.5642933 & 1.0000000 & 0.04132967 & 0.04329609 & 0.015751563 & 0.04242723 & 0.2307761 & 342200 & 0 & 0 & 0 & 1 & 0\\\\\n",
       "\t6 & 5 & 0.2091633 & 0.5642933 & 1.0000000 & 0.02332265 & 0.03289882 & 0.011491353 & 0.03157375 & 0.2439208 & 269700 & 0 & 0 & 0 & 1 & 0\\\\\n",
       "\\end{tabular}\n"
      ],
      "text/markdown": [
       "\n",
       "A data.frame: 6 × 15\n",
       "\n",
       "| <!--/--> | X &lt;int&gt; | longitude &lt;dbl&gt; | latitude &lt;dbl&gt; | housing_median_age &lt;dbl&gt; | total_rooms &lt;dbl&gt; | total_bedrooms &lt;dbl&gt; | population &lt;dbl&gt; | households &lt;dbl&gt; | median_income &lt;dbl&gt; | median_house_value &lt;dbl&gt; | ocean_proximity_.1H.OCEAN &lt;int&gt; | ocean_proximity_INLAND &lt;int&gt; | ocean_proximity_ISLAND &lt;int&gt; | ocean_proximity_NEAR.BAY &lt;int&gt; | ocean_proximity_NEAR.OCEAN &lt;int&gt; |\n",
       "|---|---|---|---|---|---|---|---|---|---|---|---|---|---|---|---|\n",
       "| 1 | 0 | 0.2111554 | 0.5674814 | 0.7843137 | 0.02233074 | 0.01986344 | 0.008940834 | 0.02055583 | 0.5396684 | 452600 | 0 | 0 | 0 | 1 | 0 |\n",
       "| 2 | 1 | 0.2121514 | 0.5653560 | 0.3921569 | 0.18050257 | 0.17147734 | 0.067210404 | 0.18697583 | 0.5380271 | 358500 | 0 | 0 | 0 | 1 | 0 |\n",
       "| 3 | 2 | 0.2101594 | 0.5642933 | 1.0000000 | 0.03726029 | 0.02932961 | 0.013817652 | 0.02894261 | 0.4660281 | 352100 | 0 | 0 | 0 | 1 | 0 |\n",
       "| 4 | 3 | 0.2091633 | 0.5642933 | 1.0000000 | 0.03235159 | 0.03631285 | 0.015555369 | 0.03584937 | 0.3546986 | 341300 | 0 | 0 | 0 | 1 | 0 |\n",
       "| 5 | 4 | 0.2091633 | 0.5642933 | 1.0000000 | 0.04132967 | 0.04329609 | 0.015751563 | 0.04242723 | 0.2307761 | 342200 | 0 | 0 | 0 | 1 | 0 |\n",
       "| 6 | 5 | 0.2091633 | 0.5642933 | 1.0000000 | 0.02332265 | 0.03289882 | 0.011491353 | 0.03157375 | 0.2439208 | 269700 | 0 | 0 | 0 | 1 | 0 |\n",
       "\n"
      ],
      "text/plain": [
       "  X longitude latitude  housing_median_age total_rooms total_bedrooms\n",
       "1 0 0.2111554 0.5674814 0.7843137          0.02233074  0.01986344    \n",
       "2 1 0.2121514 0.5653560 0.3921569          0.18050257  0.17147734    \n",
       "3 2 0.2101594 0.5642933 1.0000000          0.03726029  0.02932961    \n",
       "4 3 0.2091633 0.5642933 1.0000000          0.03235159  0.03631285    \n",
       "5 4 0.2091633 0.5642933 1.0000000          0.04132967  0.04329609    \n",
       "6 5 0.2091633 0.5642933 1.0000000          0.02332265  0.03289882    \n",
       "  population  households median_income median_house_value\n",
       "1 0.008940834 0.02055583 0.5396684     452600            \n",
       "2 0.067210404 0.18697583 0.5380271     358500            \n",
       "3 0.013817652 0.02894261 0.4660281     352100            \n",
       "4 0.015555369 0.03584937 0.3546986     341300            \n",
       "5 0.015751563 0.04242723 0.2307761     342200            \n",
       "6 0.011491353 0.03157375 0.2439208     269700            \n",
       "  ocean_proximity_.1H.OCEAN ocean_proximity_INLAND ocean_proximity_ISLAND\n",
       "1 0                         0                      0                     \n",
       "2 0                         0                      0                     \n",
       "3 0                         0                      0                     \n",
       "4 0                         0                      0                     \n",
       "5 0                         0                      0                     \n",
       "6 0                         0                      0                     \n",
       "  ocean_proximity_NEAR.BAY ocean_proximity_NEAR.OCEAN\n",
       "1 1                        0                         \n",
       "2 1                        0                         \n",
       "3 1                        0                         \n",
       "4 1                        0                         \n",
       "5 1                        0                         \n",
       "6 1                        0                         "
      ]
     },
     "metadata": {},
     "output_type": "display_data"
    },
    {
     "data": {
      "text/html": [
       "<style>\n",
       ".list-inline {list-style: none; margin:0; padding: 0}\n",
       ".list-inline>li {display: inline-block}\n",
       ".list-inline>li:not(:last-child)::after {content: \"\\00b7\"; padding: 0 .5ex}\n",
       "</style>\n",
       "<ol class=list-inline><li>20433</li><li>15</li></ol>\n"
      ],
      "text/latex": [
       "\\begin{enumerate*}\n",
       "\\item 20433\n",
       "\\item 15\n",
       "\\end{enumerate*}\n"
      ],
      "text/markdown": [
       "1. 20433\n",
       "2. 15\n",
       "\n",
       "\n"
      ],
      "text/plain": [
       "[1] 20433    15"
      ]
     },
     "metadata": {},
     "output_type": "display_data"
    },
    {
     "data": {
      "text/plain": [
       "       X           longitude         latitude      housing_median_age\n",
       " Min.   :    0   Min.   :0.0000   Min.   :0.0000   Min.   :0.0000    \n",
       " 1st Qu.: 5162   1st Qu.:0.2540   1st Qu.:0.1477   1st Qu.:0.3333    \n",
       " Median :10319   Median :0.5837   Median :0.1828   Median :0.5490    \n",
       " Mean   :10316   Mean   :0.4760   Mean   :0.3287   Mean   :0.5418    \n",
       " 3rd Qu.:15473   3rd Qu.:0.6315   3rd Qu.:0.5505   3rd Qu.:0.7059    \n",
       " Max.   :20639   Max.   :1.0000   Max.   :1.0000   Max.   :1.0000    \n",
       "  total_rooms      total_bedrooms      population        households     \n",
       " Min.   :0.00000   Min.   :0.00000   Min.   :0.00000   Min.   :0.00000  \n",
       " 1st Qu.:0.03683   1st Qu.:0.04578   1st Qu.:0.02197   1st Qu.:0.04588  \n",
       " Median :0.05405   Median :0.06735   Median :0.03260   Median :0.06709  \n",
       " Mean   :0.06700   Mean   :0.08331   Mean   :0.03985   Mean   :0.08197  \n",
       " 3rd Qu.:0.07989   3rd Qu.:0.10025   3rd Qu.:0.04818   3rd Qu.:0.09916  \n",
       " Max.   :1.00000   Max.   :1.00000   Max.   :1.00000   Max.   :1.00000  \n",
       " median_income    median_house_value ocean_proximity_.1H.OCEAN\n",
       " Min.   :0.0000   Min.   : 14999     Min.   :0.0000           \n",
       " 1st Qu.:0.1423   1st Qu.:119500     1st Qu.:0.0000           \n",
       " Median :0.2094   Median :179700     Median :0.0000           \n",
       " Mean   :0.2325   Mean   :206864     Mean   :0.4421           \n",
       " 3rd Qu.:0.2927   3rd Qu.:264700     3rd Qu.:1.0000           \n",
       " Max.   :1.0000   Max.   :500001     Max.   :1.0000           \n",
       " ocean_proximity_INLAND ocean_proximity_ISLAND ocean_proximity_NEAR.BAY\n",
       " Min.   :0.0000         Min.   :0.0000000      Min.   :0.0000          \n",
       " 1st Qu.:0.0000         1st Qu.:0.0000000      1st Qu.:0.0000          \n",
       " Median :0.0000         Median :0.0000000      Median :0.0000          \n",
       " Mean   :0.3179         Mean   :0.0002447      Mean   :0.1111          \n",
       " 3rd Qu.:1.0000         3rd Qu.:0.0000000      3rd Qu.:0.0000          \n",
       " Max.   :1.0000         Max.   :1.0000000      Max.   :1.0000          \n",
       " ocean_proximity_NEAR.OCEAN\n",
       " Min.   :0.0000            \n",
       " 1st Qu.:0.0000            \n",
       " Median :0.0000            \n",
       " Mean   :0.1286            \n",
       " 3rd Qu.:0.0000            \n",
       " Max.   :1.0000            "
      ]
     },
     "metadata": {},
     "output_type": "display_data"
    }
   ],
   "source": [
    "# =========== READ DATA ===========\n",
    "housing <- read.csv(\"data/housing_light_preprocessing.csv\")\n",
    "\n",
    "# look at the data\n",
    "head(housing)\n",
    "dim(housing)\n",
    "summary(housing)\n"
   ]
  },
  {
   "cell_type": "code",
   "execution_count": 3,
   "metadata": {
    "vscode": {
     "languageId": "r"
    }
   },
   "outputs": [
    {
     "data": {
      "text/plain": [
       "\n",
       "Call:\n",
       "lm(formula = median_house_value ~ ., data = housing)\n",
       "\n",
       "Residuals:\n",
       "    Min      1Q  Median      3Q     Max \n",
       "-562919  -42437  -10868   29070  771236 \n",
       "\n",
       "Coefficients: (1 not defined because of singularities)\n",
       "                             Estimate Std. Error t value Pr(>|t|)    \n",
       "(Intercept)                 2.352e+05  8.439e+03  27.865  < 2e-16 ***\n",
       "X                           8.044e-01  8.884e-02   9.054  < 2e-16 ***\n",
       "longitude                  -2.508e+05  1.042e+04 -24.076  < 2e-16 ***\n",
       "latitude                   -2.279e+05  9.527e+03 -23.917  < 2e-16 ***\n",
       "housing_median_age          5.763e+04  2.257e+03  25.534  < 2e-16 ***\n",
       "total_rooms                -2.532e+05  3.108e+04  -8.148 3.91e-16 ***\n",
       "total_bedrooms              6.454e+05  4.417e+04  14.610  < 2e-16 ***\n",
       "population                 -1.351e+06  3.832e+04 -35.255  < 2e-16 ***\n",
       "households                  3.113e+05  4.523e+04   6.882 6.05e-12 ***\n",
       "median_income               5.684e+05  4.892e+03 116.180  < 2e-16 ***\n",
       "ocean_proximity_.1H.OCEAN  -1.318e+03  1.600e+03  -0.824    0.410    \n",
       "ocean_proximity_INLAND     -4.227e+04  2.250e+03 -18.787  < 2e-16 ***\n",
       "ocean_proximity_ISLAND      1.526e+05  3.070e+04   4.972 6.69e-07 ***\n",
       "ocean_proximity_NEAR.BAY   -1.539e+03  2.294e+03  -0.671    0.502    \n",
       "ocean_proximity_NEAR.OCEAN         NA         NA      NA       NA    \n",
       "---\n",
       "Signif. codes:  0 '***' 0.001 '**' 0.01 '*' 0.05 '.' 0.1 ' ' 1\n",
       "\n",
       "Residual standard error: 68520 on 20419 degrees of freedom\n",
       "Multiple R-squared:  0.6479,\tAdjusted R-squared:  0.6477 \n",
       "F-statistic:  2890 on 13 and 20419 DF,  p-value: < 2.2e-16\n"
      ]
     },
     "metadata": {},
     "output_type": "display_data"
    },
    {
     "data": {
      "image/png": "[encoded data removed]",
      "text/plain": [
       "Plot with title \"\""
      ]
     },
     "metadata": {
      "image/png": {
       "height": 420,
       "width": 420
      }
     },
     "output_type": "display_data"
    },
    {
     "data": {
      "image/png": "[encoded data removed]",
      "text/plain": [
       "Plot with title \"\""
      ]
     },
     "metadata": {
      "image/png": {
       "height": 420,
       "width": 420
      }
     },
     "output_type": "display_data"
    },
    {
     "data": {
      "image/png": "[encoded data removed]",
      "text/plain": [
       "Plot with title \"\""
      ]
     },
     "metadata": {
      "image/png": {
       "height": 420,
       "width": 420
      }
     },
     "output_type": "display_data"
    },
    {
     "data": {
      "image/png": "[encoded data removed]",
      "text/plain": [
       "Plot with title \"\""
      ]
     },
     "metadata": {
      "image/png": {
       "height": 420,
       "width": 420
      }
     },
     "output_type": "display_data"
    }
   ],
   "source": [
    "# =========== LINEAR REGRESSION ===========\n",
    "m1 <- lm(median_house_value\t ~ ., data = housing)\n",
    "summary(m1)\n",
    "plot(m1)"
   ]
  },
  {
   "cell_type": "code",
   "execution_count": 4,
   "metadata": {
    "vscode": {
     "languageId": "r"
    }
   },
   "outputs": [
    {
     "data": {
      "text/plain": [
       "\n",
       "Call:\n",
       "lm(formula = median_house_value ~ ., data = housing_subset)\n",
       "\n",
       "Residuals:\n",
       "    Min      1Q  Median      3Q     Max \n",
       "-555055  -42605  -10545   28817  782286 \n",
       "\n",
       "Coefficients:\n",
       "                       Estimate Std. Error t value Pr(>|t|)    \n",
       "(Intercept)              260950       7954  32.806  < 2e-16 ***\n",
       "longitude               -272914       9911 -27.535  < 2e-16 ***\n",
       "latitude                -246511       9257 -26.631  < 2e-16 ***\n",
       "housing_median_age        53488       2200  24.318  < 2e-16 ***\n",
       "total_rooms             -239070      31076  -7.693  1.5e-14 ***\n",
       "total_bedrooms           650861      44264  14.704  < 2e-16 ***\n",
       "population             -1358947      38209 -35.566  < 2e-16 ***\n",
       "households               294737      45328   6.502  8.1e-11 ***\n",
       "median_income            567719       4885 116.214  < 2e-16 ***\n",
       "ocean_proximity_INLAND   -38748       1714 -22.610  < 2e-16 ***\n",
       "---\n",
       "Signif. codes:  0 '***' 0.001 '**' 0.01 '*' 0.05 '.' 0.1 ' ' 1\n",
       "\n",
       "Residual standard error: 68720 on 20423 degrees of freedom\n",
       "Multiple R-squared:  0.6458,\tAdjusted R-squared:  0.6456 \n",
       "F-statistic:  4137 on 9 and 20423 DF,  p-value: < 2.2e-16\n"
      ]
     },
     "metadata": {},
     "output_type": "display_data"
    },
    {
     "data": {
      "image/png": "[encoded data removed]",
      "text/plain": [
       "Plot with title \"\""
      ]
     },
     "metadata": {
      "image/png": {
       "height": 420,
       "width": 420
      }
     },
     "output_type": "display_data"
    },
    {
     "data": {
      "image/png": "[encoded data removed]",
      "text/plain": [
       "Plot with title \"\""
      ]
     },
     "metadata": {
      "image/png": {
       "height": 420,
       "width": 420
      }
     },
     "output_type": "display_data"
    },
    {
     "data": {
      "image/png": "[encoded data removed]",
      "text/plain": [
       "Plot with title \"\""
      ]
     },
     "metadata": {
      "image/png": {
       "height": 420,
       "width": 420
      }
     },
     "output_type": "display_data"
    },
    {
     "data": {
      "image/png": "[encoded data removed]",
      "text/plain": [
       "Plot with title \"\""
      ]
     },
     "metadata": {
      "image/png": {
       "height": 420,
       "width": 420
      }
     },
     "output_type": "display_data"
    }
   ],
   "source": [
    "housing_subset<-housing[,c('longitude','latitude','housing_median_age','total_rooms','total_bedrooms','population','households','median_income','median_house_value','ocean_proximity_INLAND')]\n",
    "\n",
    "m1 <- lm(median_house_value\t ~ ., data = housing_subset)\n",
    "summary(m1)\n",
    "plot(m1)"
   ]
  },
  {
   "cell_type": "code",
   "execution_count": 5,
   "metadata": {
    "vscode": {
     "languageId": "r"
    }
   },
   "outputs": [
    {
     "data": {
      "image/png": "[encoded data removed]",
      "text/plain": [
       "Plot with title \"Density of sigma2\""
      ]
     },
     "metadata": {
      "image/png": {
       "height": 420,
       "width": 420
      }
     },
     "output_type": "display_data"
    }
   ],
   "source": [
    "\n",
    "X <- as.matrix(housing[,c('longitude','latitude','housing_median_age','total_rooms','total_bedrooms','population','households','median_income','median_house_value','ocean_proximity_INLAND')])\n",
    "post.reg1 <- MCMCregress(median_house_value ~ X, data = housing,  seed = 1234567)  \n",
    "plot(post.reg1)  ## trace plots and kernel density plots"
   ]
  },
  {
   "cell_type": "code",
   "execution_count": 6,
   "metadata": {
    "vscode": {
     "languageId": "r"
    }
   },
   "outputs": [
    {
     "data": {
      "image/png": "[encoded data removed]",
      "text/plain": [
       "Plot with title \"sigma2\""
      ]
     },
     "metadata": {
      "image/png": {
       "height": 420,
       "width": 420
      }
     },
     "output_type": "display_data"
    }
   ],
   "source": [
    "autocorr.plot(post.reg1) "
   ]
  },
  {
   "cell_type": "code",
   "execution_count": 7,
   "metadata": {
    "vscode": {
     "languageId": "r"
    }
   },
   "outputs": [
    {
     "data": {
      "text/html": [
       "<style>\n",
       ".dl-inline {width: auto; margin:0; padding: 0}\n",
       ".dl-inline>dt, .dl-inline>dd {float: none; width: auto; display: inline-block}\n",
       ".dl-inline>dt::after {content: \":\\0020\"; padding-right: .5ex}\n",
       ".dl-inline>dt:not(:first-of-type) {padding-left: .5ex}\n",
       "</style><dl class=dl-inline><dt>(Intercept)</dt><dd>9999.99999999998</dd><dt>X</dt><dd>9999.99999999999</dd><dt>sigma2</dt><dd>9670.07822263017</dd></dl>\n"
      ],
      "text/latex": [
       "\\begin{description*}\n",
       "\\item[(Intercept)] 9999.99999999998\n",
       "\\item[X] 9999.99999999999\n",
       "\\item[sigma2] 9670.07822263017\n",
       "\\end{description*}\n"
      ],
      "text/markdown": [
       "(Intercept)\n",
       ":   9999.99999999998X\n",
       ":   9999.99999999999sigma2\n",
       ":   9670.07822263017\n",
       "\n"
      ],
      "text/plain": [
       "(Intercept)           X      sigma2 \n",
       "  10000.000   10000.000    9670.078 "
      ]
     },
     "metadata": {},
     "output_type": "display_data"
    }
   ],
   "source": [
    "effectiveSize(post.reg1)"
   ]
  },
  {
   "cell_type": "code",
   "execution_count": 8,
   "metadata": {
    "vscode": {
     "languageId": "r"
    }
   },
   "outputs": [
    {
     "data": {
      "text/plain": [
       "Potential scale reduction factors:\n",
       "\n",
       "            Point est. Upper C.I.\n",
       "(Intercept)          1          1\n",
       "X                    1          1\n",
       "sigma2               1          1\n",
       "\n",
       "Multivariate psrf\n",
       "\n",
       "1"
      ]
     },
     "metadata": {},
     "output_type": "display_data"
    }
   ],
   "source": [
    "post.reg2 <- MCMCregress(median_house_value ~ X, data = housing,  seed = 121234)  \n",
    "\n",
    "# do a few more (uncomment and complete the below, changing the seed each time)\n",
    "post.reg3 <- MCMCregress(median_house_value ~ X, data = housing,  seed = 131313)  \n",
    "post.reg4 <- MCMCregress(median_house_value ~ X, data = housing,  seed = 13131313)  \n",
    "post.reg5 <- MCMCregress(median_house_value ~ X, data = housing,  seed = 1313131313)  \n",
    "\n",
    "postreg.list <- mcmc.list(post.reg1,post.reg2,post.reg3,post.reg4,post.reg5) # add the others here! \n",
    "gelman.diag(postreg.list)"
   ]
  },
  {
   "cell_type": "code",
   "execution_count": 9,
   "metadata": {
    "vscode": {
     "languageId": "r"
    }
   },
   "outputs": [
    {
     "data": {
      "image/png": "[encoded data removed]",
      "text/plain": [
       "Plot with title \"sigma2\""
      ]
     },
     "metadata": {
      "image/png": {
       "height": 420,
       "width": 420
      }
     },
     "output_type": "display_data"
    }
   ],
   "source": [
    "gelman.plot(postreg.list)"
   ]
  },
  {
   "cell_type": "code",
   "execution_count": 10,
   "metadata": {
    "vscode": {
     "languageId": "r"
    }
   },
   "outputs": [
    {
     "data": {
      "text/plain": [
       "\n",
       "Iterations = 1001:11000\n",
       "Thinning interval = 1 \n",
       "Number of chains = 5 \n",
       "Sample size per chain = 10000 \n",
       "\n",
       "1. Empirical mean and standard deviation for each variable,\n",
       "   plus standard error of the mean:\n",
       "\n",
       "                 Mean        SD  Naive SE Time-series SE\n",
       "(Intercept) 1.926e+05 1.616e+03 7.227e+00      7.293e+00\n",
       "X           1.382e+00 1.359e-01 6.079e-04      6.106e-04\n",
       "sigma2      1.326e+10 1.308e+08 5.848e+05      5.840e+05\n",
       "\n",
       "2. Quantiles for each variable:\n",
       "\n",
       "                 2.5%       25%       50%       75%     97.5%\n",
       "(Intercept) 1.894e+05 1.915e+05 1.926e+05 1.937e+05 1.958e+05\n",
       "X           1.115e+00 1.290e+00 1.382e+00 1.474e+00 1.650e+00\n",
       "sigma2      1.300e+10 1.317e+10 1.326e+10 1.335e+10 1.352e+10\n"
      ]
     },
     "metadata": {},
     "output_type": "display_data"
    }
   ],
   "source": [
    "summary(postreg.list)\n"
   ]
  },
  {
   "cell_type": "code",
   "execution_count": 11,
   "metadata": {
    "vscode": {
     "languageId": "r"
    }
   },
   "outputs": [
    {
     "data": {
      "text/plain": [
       "\n",
       "Iterations = 1001:11000\n",
       "Thinning interval = 1 \n",
       "Number of chains = 1 \n",
       "Sample size per chain = 10000 \n",
       "\n",
       "1. Empirical mean and standard deviation for each variable,\n",
       "   plus standard error of the mean:\n",
       "\n",
       "                            Mean        SD  Naive SE Time-series SE\n",
       "(Intercept)            7.437e+00 1.003e+01 1.003e-01      1.003e-01\n",
       "longitude              3.417e+00 9.948e+00 9.948e-02      9.948e-02\n",
       "latitude               2.291e+00 1.001e+01 1.001e-01      9.731e-02\n",
       "housing_median_age     4.197e+00 9.953e+00 9.953e-02      9.953e-02\n",
       "total_rooms            7.348e-01 9.959e+00 9.959e-02      9.810e-02\n",
       "total_bedrooms         3.706e-01 1.007e+01 1.007e-01      9.842e-02\n",
       "population             4.406e-01 1.007e+01 1.007e-01      9.816e-02\n",
       "households             6.495e-01 1.009e+01 1.009e-01      1.009e-01\n",
       "median_income          2.076e+00 9.987e+00 9.987e-02      1.030e-01\n",
       "ocean_proximity_INLAND 1.410e+00 1.006e+01 1.006e-01      1.030e-01\n",
       "sigma2                 5.613e+10 5.561e+08 5.561e+06      5.561e+06\n",
       "\n",
       "2. Quantiles for each variable:\n",
       "\n",
       "                             2.5%        25%       50%       75%     97.5%\n",
       "(Intercept)            -1.239e+01  7.262e-01 7.472e+00 1.413e+01 2.730e+01\n",
       "longitude              -1.594e+01 -3.349e+00 3.490e+00 1.017e+01 2.299e+01\n",
       "latitude               -1.733e+01 -4.514e+00 2.185e+00 8.971e+00 2.168e+01\n",
       "housing_median_age     -1.519e+01 -2.408e+00 4.108e+00 1.087e+01 2.389e+01\n",
       "total_rooms            -1.885e+01 -5.913e+00 7.279e-01 7.405e+00 2.005e+01\n",
       "total_bedrooms         -1.953e+01 -6.352e+00 3.245e-01 7.218e+00 2.043e+01\n",
       "population             -1.936e+01 -6.327e+00 4.204e-01 7.267e+00 2.032e+01\n",
       "households             -1.924e+01 -6.144e+00 6.415e-01 7.461e+00 2.015e+01\n",
       "median_income          -1.726e+01 -4.795e+00 1.965e+00 8.882e+00 2.200e+01\n",
       "ocean_proximity_INLAND -1.830e+01 -5.436e+00 1.490e+00 8.110e+00 2.103e+01\n",
       "sigma2                  5.505e+10  5.575e+10 5.612e+10 5.650e+10 5.722e+10\n"
      ]
     },
     "metadata": {},
     "output_type": "display_data"
    }
   ],
   "source": [
    "X <- as.matrix(housing[,c('longitude','latitude','housing_median_age','total_rooms','total_bedrooms','population','households','median_income','median_house_value')])\n",
    "V <- 1/100\n",
    "model1 <- MCMCregress(median_house_value  ~ longitude + latitude + housing_median_age + total_rooms + total_bedrooms + population + households + median_income+ocean_proximity_INLAND,data=housing,B0=V,marginal.likelihood=\"Laplace\",  seed = 1234567)\n",
    "summary(model1)\n"
   ]
  },
  {
   "cell_type": "code",
   "execution_count": 12,
   "metadata": {
    "vscode": {
     "languageId": "r"
    }
   },
   "outputs": [
    {
     "name": "stdout",
     "output_type": "stream",
     "text": [
      "The matrix of Bayes Factors is:\n",
      "       model1 model2 model3 model4\n",
      "model1  1.000  0.891  0.895   1.00\n",
      "model2  1.123  1.000  1.005   1.13\n",
      "model3  1.117  0.995  1.000   1.12\n",
      "model4  0.997  0.888  0.893   1.00\n",
      "\n",
      "The matrix of the natural log Bayes Factors is:\n",
      "         model1   model2   model3  model4\n",
      "model1  0.00000 -0.11575 -0.11082 0.00264\n",
      "model2  0.11575  0.00000  0.00494 0.11839\n",
      "model3  0.11082 -0.00494  0.00000 0.11346\n",
      "model4 -0.00264 -0.11839 -0.11346 0.00000\n",
      "\n",
      " model1 :\n",
      "   call = \n",
      "MCMCregress(formula = median_house_value ~ longitude + latitude + \n",
      "    housing_median_age + total_rooms + total_bedrooms + population + \n",
      "    households + median_income + ocean_proximity_INLAND, data = housing, \n",
      "    seed = 1234567, B0 = V, marginal.likelihood = \"Laplace\")\n",
      "\n",
      "   log marginal likelihood =  -281869.8 \n",
      "\n",
      "\n",
      " model2 :\n",
      "   call = \n",
      "MCMCregress(formula = median_house_value ~ longitude + latitude + \n",
      "    housing_median_age + total_rooms + total_bedrooms + population + \n",
      "    households + median_income, data = housing, B0 = V, marginal.likelihood = \"Laplace\")\n",
      "\n",
      "   log marginal likelihood =  -281869.7 \n",
      "\n",
      "\n",
      " model3 :\n",
      "   call = \n",
      "MCMCregress(formula = median_house_value ~ longitude + latitude + \n",
      "    housing_median_age + total_rooms + median_income, data = housing, \n",
      "    B0 = V, marginal.likelihood = \"Laplace\")\n",
      "\n",
      "   log marginal likelihood =  -281869.7 \n",
      "\n",
      "\n",
      " model4 :\n",
      "   call = \n",
      "MCMCregress(formula = median_house_value ~ longitude + latitude + \n",
      "    total_rooms + median_income, data = housing, B0 = V, marginal.likelihood = \"Laplace\")\n",
      "\n",
      "   log marginal likelihood =  -281869.8 \n",
      "\n"
     ]
    }
   ],
   "source": [
    "V <- 1/100\n",
    "\n",
    "# Ajustar el modelo 1: todos los predictores\n",
    "model2 <- MCMCregress(median_house_value ~ longitude + latitude + housing_median_age + total_rooms + total_bedrooms + population + households + median_income, data = housing, B0 = V, marginal.likelihood = \"Laplace\")\n",
    "\n",
    "# Ajustar el modelo 2: un subconjunto de predictores\n",
    "model3 <- MCMCregress(median_house_value ~ longitude + latitude + housing_median_age + total_rooms + median_income, data = housing, B0 = V, marginal.likelihood = \"Laplace\")\n",
    "\n",
    "# Ajustar el modelo 3: otro subconjunto de predictores\n",
    "model4 <- MCMCregress(median_house_value ~ longitude + latitude + total_rooms + median_income, data = housing, B0 = V, marginal.likelihood = \"Laplace\")\n",
    "\n",
    "# Calcular el Factor Bayesiano entre los modelos\n",
    "BF <- BayesFactor(model1, model2, model3,model4)\n",
    "print(BF)"
   ]
  },
  {
   "cell_type": "markdown",
   "metadata": {},
   "source": []
  },
  {
   "cell_type": "markdown",
   "metadata": {},
   "source": [
    "###General Interpretation\n",
    "\n",
    "The Bayes factors and log-Bayes factors indicate that model2 and model3 are slightly more probable than model1 and model4, but the differences are very small.\n",
    "\n",
    "Model2 and model3 have the highest (least negative) log-marginal likelihoods, suggesting that these models fit the data better compared to the other models.\n",
    "\n",
    "Values close to 1 in the Bayes factors matrix and values close to 0 in the log-Bayes factors matrix indicate that there are no significant differences between the compared models.\n",
    "\n",
    "In summary, although there are slight differences in the relative probability of the models, all of them are quite similar in terms of their fit to the data."
   ]
  },
  {
   "cell_type": "code",
   "execution_count": 13,
   "metadata": {
    "vscode": {
     "languageId": "r"
    }
   },
   "outputs": [
    {
     "name": "stdout",
     "output_type": "stream",
     "text": [
      "Info. . . .\n",
      "Most complex model has 10 covariates\n",
      "From those 1 is fixed and we should select from the remaining 9 \n",
      "longitude, latitude, housing_median_age, total_rooms, total_bedrooms, population, households, median_income, ocean_proximity_INLAND\n",
      "The problem has a total of 512 competing models\n",
      "Of these, the  2 most probable (a posteriori) are kept\n",
      "Working on the problem...please wait.\n"
     ]
    },
    {
     "ename": "ERROR",
     "evalue": "Error in myfun(c(1, (2^p - 1)), method = method): A Bayes factor is infinite.\n",
     "output_type": "error",
     "traceback": [
      "Error in myfun(c(1, (2^p - 1)), method = method): A Bayes factor is infinite.\nTraceback:\n",
      "1. Bvs(formula = \"median_house_value ~ .\", data = housing_subset, \n .     n.keep = 2)",
      "2. myfun(c(1, (2^p - 1)), method = method)"
     ]
    }
   ],
   "source": [
    "\n",
    "# Run into a problem running\n",
    "bvs1 <- Bvs(formula = \"median_house_value ~ .\", \n",
    "            data = housing_subset, \n",
    "            n.keep = 2)"
   ]
  },
  {
   "cell_type": "code",
   "execution_count": 14,
   "metadata": {
    "vscode": {
     "languageId": "r"
    }
   },
   "outputs": [
    {
     "name": "stderr",
     "output_type": "stream",
     "text": [
      "Loading required package: carData\n",
      "\n",
      "\n",
      "Attaching package: 'car'\n",
      "\n",
      "\n",
      "The following object is masked from 'package:dplyr':\n",
      "\n",
      "    recode\n",
      "\n",
      "\n",
      "The following object is masked from 'package:rstanarm':\n",
      "\n",
      "    logit\n",
      "\n",
      "\n"
     ]
    },
    {
     "name": "stdout",
     "output_type": "stream",
     "text": [
      "           (Intercept)              longitude               latitude \n",
      "             260949.65             -272913.52             -246510.71 \n",
      "    housing_median_age            total_rooms         total_bedrooms \n",
      "              53487.58             -239069.76              650860.92 \n",
      "            population             households          median_income \n",
      "           -1358947.30              294736.87              567719.44 \n",
      "ocean_proximity_INLAND \n",
      "             -38748.09 \n",
      "character(0)\n"
     ]
    }
   ],
   "source": [
    "### We check for aliased predictors so it could be interfering the model selection\n",
    "library(car)\n",
    "predictors <- c(\"longitude\", \"latitude\", \"housing_median_age\", \"total_rooms\", \"total_bedrooms\", \"population\", \"households\", \"median_income\", \"ocean_proximity_INLAND\")\n",
    "\n",
    "# Create a linear model using all predictors\n",
    "model <- lm(median_house_value ~ ., data = housing_subset)\n",
    "\n",
    "print(coefficients(model))\n",
    "\n",
    "# Identify the predictors with aliased coefficients\n",
    "aliased_predictors <- names(coefficients(model))[is.na(coefficients(model))]\n",
    "\n",
    "# Print the names of predictors with aliased coefficients\n",
    "print(aliased_predictors)\n"
   ]
  },
  {
   "cell_type": "code",
   "execution_count": 15,
   "metadata": {
    "vscode": {
     "languageId": "r"
    }
   },
   "outputs": [
    {
     "name": "stdout",
     "output_type": "stream",
     "text": [
      "                        X                 longitude                  latitude \n",
      "                 1.218745                 18.806207                 20.358364 \n",
      "       housing_median_age               total_rooms            total_bedrooms \n",
      "                 1.351484                 12.981852                 36.311405 \n",
      "               population                households             median_income \n",
      "                 6.446940                 35.192712                  1.787059 \n",
      "ocean_proximity_.1H.OCEAN    ocean_proximity_INLAND    ocean_proximity_ISLAND \n",
      "                 2.748524                  4.776843                  1.003182 \n",
      " ocean_proximity_NEAR.BAY \n",
      "                 2.261387 \n"
     ]
    }
   ],
   "source": [
    "### Removing ocean proximity\n",
    "\n",
    "\n",
    "housing_without_near_ocean <- housing[, -which(names(housing) == \"ocean_proximity_NEAR.OCEAN\")]\n",
    "\n",
    "model <- lm(median_house_value ~ ., data = housing_without_near_ocean)\n",
    "\n",
    "# Recompute VIF values\n",
    "vif_values <- car::vif(model)\n",
    "\n",
    "# Print VIF values\n",
    "print(vif_values)"
   ]
  },
  {
   "cell_type": "markdown",
   "metadata": {},
   "source": [
    "We reduce the points and the predictors tryng to avoid a bayes factor became infinite"
   ]
  },
  {
   "cell_type": "code",
   "execution_count": null,
   "metadata": {
    "vscode": {
     "languageId": "r"
    }
   },
   "outputs": [
    {
     "name": "stdout",
     "output_type": "stream",
     "text": [
      "Info. . . .\n",
      "Most complex model has 15 covariates\n",
      "From those 1 is fixed and we should select from the remaining 14 \n",
      "X, longitude, latitude, housing_median_age, total_rooms, total_bedrooms, population, households, median_income, ocean_proximity_.1H.OCEAN, ocean_proximity_INLAND, ocean_proximity_ISLAND, ocean_proximity_NEAR.BAY, ocean_proximity_NEAR.OCEAN\n",
      "The problem has a total of 16384 competing models\n",
      "Of these, the  5 most probable (a posteriori) are kept\n",
      "Working on the problem...please wait.\n"
     ]
    },
    {
     "ename": "ERROR",
     "evalue": "Error in myfun(c(1, (2^p - 1)), method = method): A Bayes factor is infinite.\n",
     "output_type": "error",
     "traceback": [
      "Error in myfun(c(1, (2^p - 1)), method = method): A Bayes factor is infinite.\nTraceback:\n",
      "1. Bvs(formula = \"median_house_value ~ .\", data = housing_scaled, \n .     n.keep = 5)",
      "2. myfun(c(1, (2^p - 1)), method = method)"
     ]
    }
   ],
   "source": [
    "\n",
    "library(BayesVarSel)\n",
    "\n",
    "housing_subset <- housing[-(1:5000), ]\n",
    "\n",
    "# Using just a few predictors\n",
    "predictors <- c(\"ocean_proximity_ISLAND\")\n",
    "housing_scaled <- housing_subset\n",
    "\n",
    "\n",
    "bvs1 <- Bvs(formula = \"median_house_value ~ .\", data = housing_scaled, n.keep = 5)\n",
    "\n",
    "# Check results\n",
    "summary(bvs1)\n",
    "\n",
    "\n",
    "#Still error...."
   ]
  },
  {
   "cell_type": "code",
   "execution_count": null,
   "metadata": {
    "vscode": {
     "languageId": "r"
    }
   },
   "outputs": [
    {
     "name": "stdout",
     "output_type": "stream",
     "text": [
      "Info. . . .\n",
      "Most complex model has 3 covariates\n",
      "From those 1 is fixed and we should select from the remaining 2 \n",
      "longitude, latitude\n",
      "The problem has a total of 4 competing models\n",
      "Of these, the  1 most probable (a posteriori) are kept\n",
      "Working on the problem...please wait.\n"
     ]
    },
    {
     "ename": "ERROR",
     "evalue": "Error in myfun(c(1, (2^p - 1)), method = method): A Bayes factor is infinite.\n",
     "output_type": "error",
     "traceback": [
      "Error in myfun(c(1, (2^p - 1)), method = method): A Bayes factor is infinite.\nTraceback:\n",
      "1. Bvs(formula = \"median_house_value ~ .\", data = housing[, c(\"longitude\", \n .     \"latitude\", \"median_house_value\")], prior.betas = \"gZellner\", \n .     n.keep = 1)",
      "2. myfun(c(1, (2^p - 1)), method = method)"
     ]
    }
   ],
   "source": [
    "bvs1 <- Bvs(formula=\"median_house_value ~ .\",data=housing[,c(\"longitude\",\"latitude\",\"median_house_value\")],prior.betas=\"gZellner\",n.keep=1)\n",
    "#and again..."
   ]
  },
  {
   "cell_type": "markdown",
   "metadata": {},
   "source": [
    "Trying to check manually by tryng all combinations of predictors..."
   ]
  },
  {
   "cell_type": "code",
   "execution_count": 16,
   "metadata": {
    "vscode": {
     "languageId": "r"
    }
   },
   "outputs": [],
   "source": [
    "\n",
    "variables_predictoras <- c(\"longitude\", \"latitude\", \"housing_median_age\", \"total_rooms\", \"total_bedrooms\", \"population\", \"households\", \"median_income\", \"ocean_proximity_INLAND\")\n",
    "\n",
    "\n",
    "num_variables <- length(variables_predictoras)\n",
    "\n",
    "\n",
    "lista_modelos <- list()\n",
    "\n",
    "\n",
    "lista_formulas <- character()\n",
    "\n",
    "\n",
    "\n",
    "for (longitud_combinacion in 7:num_variables) {\n",
    "  # Genera todas las combinaciones de la longitud actual\n",
    "  combinaciones <- combn(variables_predictoras, longitud_combinacion)\n",
    "  \n",
    "\n",
    "  for (i in 1:ncol(combinaciones)) {\n",
    "\n",
    "    formula_modelo <- as.formula(paste(\"median_house_value ~\", paste(combinaciones[, i], collapse = \" + \")))\n",
    "    \n",
    "\n",
    "    lista_formulas <- c(lista_formulas, deparse(formula_modelo))\n",
    "\n",
    "    aux <- MCMCregress(formula_modelo, data = housing, B0 = V, marginal.likelihood = \"Laplace\")\n",
    "    lista_modelos[[length(lista_modelos) + 1]] <- aux\n",
    "\n",
    "    cat(\"Modelo con combinación:\", paste(combinaciones[, i], collapse = \", \"), \"\\n\")\n",
    "    print(lista_modelos[[length(lista_modelos)]])\n",
    "  }\n",
    "}\n",
    "\n",
    "\n"
   ]
  },
  {
   "cell_type": "code",
   "execution_count": null,
   "metadata": {
    "vscode": {
     "languageId": "r"
    }
   },
   "outputs": [],
   "source": [
    "# Utiliza la función BayesFactor para comparar los modelos\n",
    "BF <- BayesFactor(lista_modelos)\n",
    "\n",
    "# Imprime el resultado de la comparación\n",
    "print(BF)\n"
   ]
  }
 ],
 "metadata": {
  "kernelspec": {
   "display_name": "R",
   "language": "R",
   "name": "ir"
  },
  "language_info": {
   "codemirror_mode": "r",
   "file_extension": ".r",
   "mimetype": "text/x-r-source",
   "name": "R",
   "pygments_lexer": "r",
   "version": "4.3.3"
  },
  "orig_nbformat": 4
 },
 "nbformat": 4,
 "nbformat_minor": 2
}
